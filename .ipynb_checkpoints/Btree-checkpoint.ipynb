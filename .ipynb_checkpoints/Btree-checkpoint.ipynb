{
 "cells": [
  {
   "cell_type": "code",
   "execution_count": null,
   "metadata": {},
   "outputs": [],
   "source": [
    "import pandas as pd\n",
    "from collections import OrderedDict\n",
    "from sys import argv"
   ]
  },
  {
   "cell_type": "markdown",
   "metadata": {},
   "source": [
    "### next step requires `build-essential` & `python3.6-dev` packages\n",
    "\n",
    "on debian-based linux: `sudo apt-get update && sudo apt-get install build-essential python3.6-dev`\n",
    "\n",
    "all other dependencies: `pipenv install` or `pip install -r requirements.txt`"
   ]
  },
  {
   "cell_type": "code",
   "execution_count": 3,
   "metadata": {},
   "outputs": [],
   "source": [
    "from BTrees.OOBTree import OOBTree"
   ]
  },
  {
   "cell_type": "code",
   "execution_count": 4,
   "metadata": {},
   "outputs": [],
   "source": [
    "# arquivo = \"/home/ramon/Documents/PycharmProjects/cbd/consulta_cand_2018/consulta_cand_2018_BR.csv\" if len(argv) < 2 else argv[1]\n",
    "arquivo = \"/home/ramon/Documents/PycharmProjects/cbd/consulta_cand_2018/consulta_cand_2018_SP_modified.csv\"\n",
    "colunas= ['PERIODO','UF','MUNICIPIO','COD_MUNICIPIO_TSE','NR_ZONA','SEXO','FAIXA_ETARIA','GRAU_ESCOLAR','TOTAL']\n",
    "# data = pd.read_csv(arquivo, header= None, names=colunas)\n",
    "data = pd.read_csv(arquivo, sep=\",\", header=0, encoding=\"latin1\")\n",
    "df = pd.DataFrame(data)\n",
    "\n",
    "#%%\n",
    "columns = OrderedDict()\n",
    "columns[\"SQ_CANDIDATO\"] = 12  # index\n",
    "columns[\"DT_GERACAO\"] = 10\n",
    "columns[\"SG_UF\"] = 2\n",
    "columns[\"DS_CARGO\"] = 18\n",
    "columns[\"NR_CANDIDATO\"] = 5\n",
    "columns[\"NM_CANDIDATO\"] = 50\n",
    "columns[\"NR_CPF_CANDIDATO\"] = 11\n",
    "columns[\"DS_SITUACAO_CANDIDATURA\"] = 6\n",
    "columns[\"DS_DETALHE_SITUACAO_CAND\"] = 22\n",
    "columns[\"TP_AGREMIACAO\"] = 15\n",
    "columns[\"NR_PARTIDO\"] = 2\n",
    "columns[\"SG_PARTIDO\"] = 13\n",
    "columns[\"SG_UF_NASCIMENTO\"] = 2\n",
    "columns[\"DT_NASCIMENTO\"] = 10\n",
    "columns[\"NR_IDADE_DATA_POSSE\"] = 2\n",
    "columns[\"NR_TITULO_ELEITORAL_CANDIDATO\"] = 12\n",
    "columns[\"DS_GENERO\"] = 9\n",
    "columns[\"DS_GRAU_INSTRUCAO\"] = 29\n",
    "columns[\"DS_ESTADO_CIVIL\"] = 25\n",
    "columns[\"DS_COR_RACA\"] = 8\n",
    "columns[\"DS_SIT_TOT_TURNO\"] = 13\n",
    "columns[\"ST_REELEICAO\"] = 1\n",
    "\n",
    "def get_register_size(columns):\n",
    "    return sum(columns.values()) + 1 # \\n character"
   ]
  },
  {
   "cell_type": "code",
   "execution_count": 66,
   "metadata": {},
   "outputs": [
    {
     "data": {
      "application/vnd.jupyter.widget-view+json": {
       "model_id": "de5368cffb684cedb3aa2f9d468fce9f",
       "version_major": 2,
       "version_minor": 0
      },
      "text/plain": [
       "HBox(children=(IntProgress(value=1, bar_style='info', max=1), HTML(value='')))"
      ]
     },
     "metadata": {},
     "output_type": "display_data"
    },
    {
     "name": "stdout",
     "output_type": "stream",
     "text": [
      "\n"
     ]
    }
   ],
   "source": [
    "from tqdm import tqdm_notebook as tqdm\n",
    "\n",
    "class BtreeTable(object):\n",
    "    def __init__(self, datafile: str, filename: str = \"/home/ramon/Documents/PycharmProjects/cbd/BtreeTable.db\",\n",
    "                 index: str = \"SQ_CANDIDATO\"):\n",
    "        self.datafile = datafile\n",
    "        self.filename = filename\n",
    "        self.index = index\n",
    "\n",
    "        self.data = pd.read_csv(datafile, sep=\",\", header=0,\n",
    "                                encoding=\"latin1\").sort_values(index)\n",
    "        \n",
    "        # this file is a bit different from the others\n",
    "        # it can be written ahead without being closed\n",
    "        # which is why it will become a persistent attribute\n",
    "        self.tree = BPlusTree(self.filename, order=50)\n",
    "        \n",
    "        # dataframe still needs to be parsed line by line\n",
    "#         for record in self.data.iterrows():\n",
    "        for record in tqdm(self.data.iterrows()):\n",
    "            btree_value = \"\"\n",
    "            \n",
    "            # padding values\n",
    "            for key, value in columns.items():\n",
    "                btree_value += (\"{:*<\" + str(value) + \"}\").format(record[1][key])\n",
    "\n",
    "            # converting to binary\n",
    "            btree_value = btree_value.encode()\n",
    "            \n",
    "            # B-tree indices must be integers\n",
    "            tree_index = int(record[1][index])\n",
    "            self.tree[tree_index] = btree_value\n",
    "#                 tree[index] = bytearray((\"{:*<\" + str(value) + \"}\").format(record[1][key]), encoding=\"latin1\")\n",
    "                \n",
    "        # commits changes without closing file        \n",
    "        self.tree.checkpoint()\n",
    "        \n",
    "        # closes file and erases write-ahead log\n",
    "        self.tree.close()\n",
    "        \n",
    "        \n",
    "\n",
    "\n",
    "new_table = BtreeTable(arquivo)"
   ]
  }
 ],
 "metadata": {
  "kernelspec": {
   "display_name": "Python 3",
   "language": "python",
   "name": "python3"
  },
  "language_info": {
   "codemirror_mode": {
    "name": "ipython",
    "version": 3
   },
   "file_extension": ".py",
   "mimetype": "text/x-python",
   "name": "python",
   "nbconvert_exporter": "python",
   "pygments_lexer": "ipython3",
   "version": "3.6.5"
  }
 },
 "nbformat": 4,
 "nbformat_minor": 2
}
