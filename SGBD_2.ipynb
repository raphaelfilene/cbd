{
 "cells": [
  {
   "cell_type": "code",
   "execution_count": null,
   "metadata": {},
   "outputs": [],
   "source": []
  },
  {
   "cell_type": "code",
   "execution_count": 13,
   "metadata": {},
   "outputs": [],
   "source": [
    "import pandas as pd"
   ]
  },
  {
   "cell_type": "markdown",
   "metadata": {},
   "source": [
    "### Carregar o arquivo para o dataframe"
   ]
  },
  {
   "cell_type": "code",
   "execution_count": 14,
   "metadata": {
    "scrolled": true
   },
   "outputs": [],
   "source": [
    "\n",
    "arquivo = \"perfil_ATUAL.csv\"\n",
    "colunas= ['PERIODO','UF','MUNICIPIO','COD_MUNICIPIO_TSE','NR_ZONA','SEXO','FAIXA_ETARIA','GRAU_ESCOLAR','TOTAL']\n",
    "data = pd.read_csv(arquivo, header= None, names=colunas)\n",
    "\n",
    "df = pd.DataFrame(data)\n"
   ]
  },
  {
   "cell_type": "markdown",
   "metadata": {
    "scrolled": true
   },
   "source": [
    "### Bloco (n) return o n-esimo bloco"
   ]
  },
  {
   "cell_type": "code",
   "execution_count": 15,
   "metadata": {},
   "outputs": [],
   "source": [
    "num_records_per_block = 5"
   ]
  },
  {
   "cell_type": "code",
   "execution_count": 16,
   "metadata": {},
   "outputs": [],
   "source": [
    "def bloco(n=1):\n",
    "    global num_records_per_block\n",
    "    global arquivo\n",
    "    global colunas\n",
    "    skip = (int(n)-1)*num_records_per_block\n",
    "    bloco = pd.read_csv(arquivo,skiprows = skip,header = None,  nrows= num_records_per_block,names = colunas)\n",
    "    return bloco"
   ]
  },
  {
   "cell_type": "code",
   "execution_count": 17,
   "metadata": {},
   "outputs": [
    {
     "data": {
      "text/html": [
       "<div>\n",
       "<style scoped>\n",
       "    .dataframe tbody tr th:only-of-type {\n",
       "        vertical-align: middle;\n",
       "    }\n",
       "\n",
       "    .dataframe tbody tr th {\n",
       "        vertical-align: top;\n",
       "    }\n",
       "\n",
       "    .dataframe thead th {\n",
       "        text-align: right;\n",
       "    }\n",
       "</style>\n",
       "<table border=\"1\" class=\"dataframe\">\n",
       "  <thead>\n",
       "    <tr style=\"text-align: right;\">\n",
       "      <th></th>\n",
       "      <th>PERIODO</th>\n",
       "      <th>UF</th>\n",
       "      <th>MUNICIPIO</th>\n",
       "      <th>COD_MUNICIPIO_TSE</th>\n",
       "      <th>NR_ZONA</th>\n",
       "      <th>SEXO</th>\n",
       "      <th>FAIXA_ETARIA</th>\n",
       "      <th>GRAU_ESCOLAR</th>\n",
       "      <th>TOTAL</th>\n",
       "    </tr>\n",
       "  </thead>\n",
       "  <tbody>\n",
       "    <tr>\n",
       "      <th>0</th>\n",
       "      <td>201806</td>\n",
       "      <td>BA</td>\n",
       "      <td>ALAGOINHAS</td>\n",
       "      <td>33138</td>\n",
       "      <td>163</td>\n",
       "      <td>FEMININO</td>\n",
       "      <td>25 A 34 ANOS</td>\n",
       "      <td>ENSINO M�DIO COMPLETO</td>\n",
       "      <td>5569</td>\n",
       "    </tr>\n",
       "    <tr>\n",
       "      <th>1</th>\n",
       "      <td>201806</td>\n",
       "      <td>BA</td>\n",
       "      <td>ALAGOINHAS</td>\n",
       "      <td>33138</td>\n",
       "      <td>163</td>\n",
       "      <td>FEMININO</td>\n",
       "      <td>25 A 34 ANOS</td>\n",
       "      <td>ENSINO M�DIO INCOMPLETO</td>\n",
       "      <td>1697</td>\n",
       "    </tr>\n",
       "    <tr>\n",
       "      <th>2</th>\n",
       "      <td>201806</td>\n",
       "      <td>BA</td>\n",
       "      <td>ALAGOINHAS</td>\n",
       "      <td>33138</td>\n",
       "      <td>163</td>\n",
       "      <td>FEMININO</td>\n",
       "      <td>25 A 34 ANOS</td>\n",
       "      <td>L� E ESCREVE</td>\n",
       "      <td>196</td>\n",
       "    </tr>\n",
       "    <tr>\n",
       "      <th>3</th>\n",
       "      <td>201806</td>\n",
       "      <td>BA</td>\n",
       "      <td>ALAGOINHAS</td>\n",
       "      <td>33138</td>\n",
       "      <td>163</td>\n",
       "      <td>FEMININO</td>\n",
       "      <td>25 A 34 ANOS</td>\n",
       "      <td>SUPERIOR COMPLETO</td>\n",
       "      <td>1406</td>\n",
       "    </tr>\n",
       "    <tr>\n",
       "      <th>4</th>\n",
       "      <td>201806</td>\n",
       "      <td>BA</td>\n",
       "      <td>ALAGOINHAS</td>\n",
       "      <td>33138</td>\n",
       "      <td>163</td>\n",
       "      <td>FEMININO</td>\n",
       "      <td>25 A 34 ANOS</td>\n",
       "      <td>SUPERIOR INCOMPLETO</td>\n",
       "      <td>1251</td>\n",
       "    </tr>\n",
       "  </tbody>\n",
       "</table>\n",
       "</div>"
      ],
      "text/plain": [
       "   PERIODO  UF   MUNICIPIO  COD_MUNICIPIO_TSE  NR_ZONA      SEXO  \\\n",
       "0   201806  BA  ALAGOINHAS              33138      163  FEMININO   \n",
       "1   201806  BA  ALAGOINHAS              33138      163  FEMININO   \n",
       "2   201806  BA  ALAGOINHAS              33138      163  FEMININO   \n",
       "3   201806  BA  ALAGOINHAS              33138      163  FEMININO   \n",
       "4   201806  BA  ALAGOINHAS              33138      163  FEMININO   \n",
       "\n",
       "   FAIXA_ETARIA             GRAU_ESCOLAR  TOTAL  \n",
       "0  25 A 34 ANOS    ENSINO M�DIO COMPLETO   5569  \n",
       "1  25 A 34 ANOS  ENSINO M�DIO INCOMPLETO   1697  \n",
       "2  25 A 34 ANOS             L� E ESCREVE    196  \n",
       "3  25 A 34 ANOS        SUPERIOR COMPLETO   1406  \n",
       "4  25 A 34 ANOS      SUPERIOR INCOMPLETO   1251  "
      ]
     },
     "execution_count": 17,
     "metadata": {},
     "output_type": "execute_result"
    }
   ],
   "source": [
    "bloco(6373)"
   ]
  },
  {
   "cell_type": "code",
   "execution_count": 18,
   "metadata": {},
   "outputs": [],
   "source": [
    "num_records = df.shape[0]\n",
    "num_blocks  = (num_records//num_records_per_block)+1\n",
    "campo_chave = 'PERIODO'   #não é chave, só teste\n",
    "campo_ord = 'PERIODO'     #só teste"
   ]
  },
  {
   "cell_type": "markdown",
   "metadata": {},
   "source": [
    "### Faz uma lista com todos os blocos"
   ]
  },
  {
   "cell_type": "markdown",
   "metadata": {},
   "source": [
    "desnecessário e ineficiente(melhor escrever em arquivos)\n",
    "<p>melhor ainda n escrever de modo algum"
   ]
  },
  {
   "cell_type": "code",
   "execution_count": 19,
   "metadata": {},
   "outputs": [],
   "source": [
    "blocos = [0]\n",
    "def w_block(block_mod = 1):\n",
    "    global blocos\n",
    "   \n",
    "    global num_records_per_block\n",
    "    global df\n",
    "    num_records = df.shape[0]\n",
    "    num_blocks  = num_records//num_records_per_block\n",
    "    for i in range(block_mod,num_blocks+1):\n",
    "               \n",
    "        blocos = blocos[:i-1] + [bloco(i)]\n",
    "    return blocos\n"
   ]
  },
  {
   "cell_type": "markdown",
   "metadata": {},
   "source": [
    "### Retorna o numero de blocos escritos abaixo"
   ]
  },
  {
   "cell_type": "code",
   "execution_count": 20,
   "metadata": {
    "scrolled": false
   },
   "outputs": [],
   "source": [
    "def num_w_block(block_mod = 1):\n",
    "    \n",
    "    global num_records_per_block\n",
    "    global df\n",
    "    num_records = df.shape[0]\n",
    "    num_blocks  = (num_records//num_records_per_block)+1\n",
    "    return (num_blocks - block_mod)        +1\n"
   ]
  },
  {
   "cell_type": "markdown",
   "metadata": {},
   "source": [
    "### Procura por blocos ordenados"
   ]
  },
  {
   "cell_type": "markdown",
   "metadata": {},
   "source": [
    "- Retorna o endereço: bloco e linha do bloco\n",
    "<p>\n",
    "\n",
    " \n",
    "- caso não encontre, endereço que deveria ocupar\n",
    "\n",
    "bug: Em loop ao não encontrar"
   ]
  },
  {
   "cell_type": "code",
   "execution_count": 21,
   "metadata": {},
   "outputs": [],
   "source": [
    "def search_on_block(bloco_n,campo,value,i=0):\n",
    "    global campo_chave\n",
    "    global num_records_per_block\n",
    "    start = search_on_line_block(0+i,int(bloco_n),campo)\n",
    "    end = search_on_line_block(num_records_per_block-(i+1),bloco_n,campo)\n",
    "    if start == value:\n",
    "        return bloco_n, 0+i\n",
    "    if start < value:\n",
    "        if end < value:\n",
    "            return search_on_block(int(bloco_n - 1),campo,value)\n",
    "        if end > value:\n",
    "            return search_on_block(int(bloco_n),value,i+1,)\n",
    "        if end == value:\n",
    "            return bloco_n, num_records_per_block-i\n",
    "    if start > value: \n",
    "        return search_on_block(int(bloco_n - 1),campo,value)\n",
    "    "
   ]
  },
  {
   "cell_type": "code",
   "execution_count": null,
   "metadata": {},
   "outputs": [],
   "source": []
  },
  {
   "cell_type": "code",
   "execution_count": 22,
   "metadata": {},
   "outputs": [],
   "source": [
    "def search_on_block_heap(bloco_n,campo,value):\n",
    "    global num_records_per_block\n",
    "    global num_blocks\n",
    "    \n",
    "    while bloco_n<= num_blocks:\n",
    "        for line in range(num_records_per_block+1):\n",
    "            record = search_on_line_block(line,int(bloco_n),campo)\n",
    "            if record == value: \n",
    "                return bloco_n, line\n",
    "        bloco_n +=1\n",
    "    return bloco_n-1"
   ]
  },
  {
   "cell_type": "code",
   "execution_count": 23,
   "metadata": {},
   "outputs": [],
   "source": [
    "def search_on_line_block(line,bloco_n,campo):\n",
    "    return bloco(bloco_n).loc[line,campo]\n"
   ]
  },
  {
   "cell_type": "markdown",
   "metadata": {},
   "source": [
    "### Implementação select"
   ]
  },
  {
   "cell_type": "code",
   "execution_count": 24,
   "metadata": {},
   "outputs": [],
   "source": [
    "def select_key_ord(campo, value ):\n",
    "    global num_blocks\n",
    "    global campo_chave\n",
    "    global campo_ord\n",
    "    \n",
    "    if campo == campo_ord:\n",
    "        bloco_n,line_block = search_on_block(num_blocks//2,campo,value)\n",
    "        return bloco(int(bloco_n)).loc[line_block]\n",
    "    \n",
    "    \n",
    "            \n",
    "        "
   ]
  },
  {
   "cell_type": "code",
   "execution_count": 25,
   "metadata": {},
   "outputs": [],
   "source": [
    "def select_key_heap(campo, value,start_block=1):\n",
    "    global num_blocks\n",
    "    global campo_chave\n",
    "     \n",
    "    if campo == campo_chave:\n",
    "        #print (campo)\n",
    "        bloco_n,line_block = search_on_block_heap(start_block,campo,value)\n",
    "        return bloco(int(bloco_n)).loc[line_block]  \n"
   ]
  },
  {
   "cell_type": "markdown",
   "metadata": {},
   "source": [
    "### campo de testes"
   ]
  },
  {
   "cell_type": "code",
   "execution_count": 26,
   "metadata": {},
   "outputs": [
    {
     "data": {
      "text/plain": [
       "201806"
      ]
     },
     "execution_count": 26,
     "metadata": {},
     "output_type": "execute_result"
    }
   ],
   "source": [
    "search_on_line_block(3,32,'PERIODO')"
   ]
  },
  {
   "cell_type": "code",
   "execution_count": 27,
   "metadata": {
    "scrolled": true
   },
   "outputs": [
    {
     "data": {
      "text/plain": [
       "PERIODO                                     201806\n",
       "UF                                              AC\n",
       "MUNICIPIO                               ACREL�NDIA\n",
       "COD_MUNICIPIO_TSE                             1120\n",
       "NR_ZONA                                          8\n",
       "SEXO                                      FEMININO\n",
       "FAIXA_ETARIA                               16 ANOS\n",
       "GRAU_ESCOLAR         ENSINO FUNDAMENTAL INCOMPLETO\n",
       "TOTAL                                            4\n",
       "Name: 0, dtype: object"
      ]
     },
     "execution_count": 27,
     "metadata": {},
     "output_type": "execute_result"
    }
   ],
   "source": [
    "select_key_heap('PERIODO',201806)"
   ]
  },
  {
   "cell_type": "code",
   "execution_count": 28,
   "metadata": {},
   "outputs": [
    {
     "data": {
      "text/plain": [
       "168318"
      ]
     },
     "execution_count": 28,
     "metadata": {},
     "output_type": "execute_result"
    }
   ],
   "source": [
    "num_blocks"
   ]
  },
  {
   "cell_type": "code",
   "execution_count": 29,
   "metadata": {},
   "outputs": [],
   "source": [
    "def equijoin(tb1,campo1,tb2,campo2):\n",
    "    pass"
   ]
  },
  {
   "cell_type": "code",
   "execution_count": 30,
   "metadata": {},
   "outputs": [],
   "source": [
    "def search_on_block_heap2(bloco_n,campo):\n",
    "    global num_records_per_block\n",
    "    global num_blocks\n",
    "    \n",
    "    while bloco_n<= num_blocks:\n",
    "        for line in range(num_records_per_block+1):\n",
    "            record = search_on_line_block(line,int(bloco_n),campo)\n",
    "            return bloco_n, line\n",
    "        bloco_n +=1\n",
    "    return bloco_n-1"
   ]
  },
  {
   "cell_type": "code",
   "execution_count": 31,
   "metadata": {},
   "outputs": [],
   "source": [
    "def equi(camp1,camp2):\n",
    "    b1,b2 = 32,33\n",
    "    global num_records_per_block\n",
    "    global num_blocks\n",
    "    \n",
    "    for l1 in range(num_records_per_block+1):\n",
    "        for l2 in range(num_records_per_block+1):\n",
    "            if search_on_line_block(l1,b1,camp1)==search_on_line_block(l2,b2,camp2):\n",
    "                return [bloco(b1).loc[l1],bloco(b2).loc[l2]]"
   ]
  },
  {
   "cell_type": "code",
   "execution_count": 32,
   "metadata": {},
   "outputs": [
    {
     "data": {
      "text/plain": [
       "[PERIODO                    201806\n",
       " UF                             AC\n",
       " MUNICIPIO            ASSIS BRASIL\n",
       " COD_MUNICIPIO_TSE            1570\n",
       " NR_ZONA                         6\n",
       " SEXO                     FEMININO\n",
       " FAIXA_ETARIA         25 A 34 ANOS\n",
       " GRAU_ESCOLAR           ANALFABETO\n",
       " TOTAL                          61\n",
       " Name: 0, dtype: object, PERIODO                    201806\n",
       " UF                             AC\n",
       " MUNICIPIO            ASSIS BRASIL\n",
       " COD_MUNICIPIO_TSE            1570\n",
       " NR_ZONA                         6\n",
       " SEXO                     FEMININO\n",
       " FAIXA_ETARIA         25 A 34 ANOS\n",
       " GRAU_ESCOLAR         L� E ESCREVE\n",
       " TOTAL                         118\n",
       " Name: 0, dtype: object]"
      ]
     },
     "execution_count": 32,
     "metadata": {},
     "output_type": "execute_result"
    }
   ],
   "source": [
    "equi('PERIODO','PERIODO')"
   ]
  },
  {
   "cell_type": "code",
   "execution_count": null,
   "metadata": {},
   "outputs": [],
   "source": []
  }
 ],
 "metadata": {
  "kernelspec": {
   "display_name": "Python 3",
   "language": "python",
   "name": "python3"
  },
  "language_info": {
   "codemirror_mode": {
    "name": "ipython",
    "version": 3
   },
   "file_extension": ".py",
   "mimetype": "text/x-python",
   "name": "python",
   "nbconvert_exporter": "python",
   "pygments_lexer": "ipython3",
   "version": "3.6.5"
  }
 },
 "nbformat": 4,
 "nbformat_minor": 2
}
